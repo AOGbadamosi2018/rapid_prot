{
 "cells": [
  {
   "cell_type": "markdown",
   "id": "8d4c5a40-c12b-47fa-b8ac-fdfa21414e34",
   "metadata": {},
   "source": [
    "#### A. Importing the necessary modules "
   ]
  },
  {
   "cell_type": "code",
   "execution_count": 1,
   "id": "c21492e9-67fe-43c0-84b6-5b0eb6c833c8",
   "metadata": {},
   "outputs": [
    {
     "data": {
      "text/plain": [
       "True"
      ]
     },
     "execution_count": 1,
     "metadata": {},
     "output_type": "execute_result"
    }
   ],
   "source": [
    "import os\n",
    "from firecrawl import FirecrawlApp\n",
    "import pandas as pd \n",
    "from dotenv import load_dotenv\n",
    "\n",
    "#using beautiful soup to find the elements \n",
    "from bs4 import BeautifulSoup\n",
    "import requests \n",
    "\n",
    "# Install with pip install firecrawl-py\n",
    "from firecrawl import FirecrawlApp\n",
    "\n",
    "load_dotenv()"
   ]
  },
  {
   "cell_type": "markdown",
   "id": "284b408f-67bc-45d0-a1ac-7ec416dc154e",
   "metadata": {},
   "source": [
    "#### B. Initializing the scraping app"
   ]
  },
  {
   "cell_type": "code",
   "execution_count": 5,
   "id": "feb7d30e-ac70-488c-a9bd-22c5e4f36b01",
   "metadata": {},
   "outputs": [],
   "source": [
    "# Initializing the application \n",
    "app = FirecrawlApp(api_key=firecrawl_api_key)"
   ]
  },
  {
   "cell_type": "code",
   "execution_count": 282,
   "id": "02dfd529-724d-4635-a4b8-32342e496aaa",
   "metadata": {},
   "outputs": [
    {
     "name": "stdout",
     "output_type": "stream",
     "text": [
      "105 101 105 210\n"
     ]
    }
   ],
   "source": [
    "#going through the pages \n",
    "#Defining the lists to collect the data \n",
    "agent_list = []\n",
    "developer_list = []\n",
    "cost_list = []\n",
    "review_list = [] \n",
    "\n",
    "for page in range (1,10) :\n",
    "    base_link = f\"https://agent.ai/?page={page}\"\n",
    "    #print(base_link)\n",
    "    \n",
    "    #bypassing dynamic pages with firecrawl scraper\n",
    "    response = app.scrape_url(url=base_link, formats = [ 'html' ])\n",
    "\n",
    "    #converting scrape html to a beautiful soup object\n",
    "    soup = BeautifulSoup(response.html , 'html.parser')\n",
    "\n",
    "    #Focusing on the AI Marketplace on each page \n",
    "    pt4_section = soup.html.select_one('.pt-4')\n",
    "    \n",
    "        #Extracting the relevant data on page 2\n",
    "    if pt4_section:\n",
    "        agent_name = soup.select(\".profile__name\")\n",
    "        dev_name = soup.select(\".profile__developer\")\n",
    "        review_name = soup.select(\".profile__experience\")\n",
    "        cost_name = soup.select(\".profile__salary\")\n",
    "        \n",
    "        for agent in agent_name: \n",
    "            agent_list.append(agent.text.strip())\n",
    "        \n",
    "        for dev in dev_name: \n",
    "            developer_list.append(dev.text.strip())\n",
    "        \n",
    "        for cost in cost_name: \n",
    "            cost_list.append(cost.text.strip())\n",
    "        \n",
    "        for review in review_name: \n",
    "            review_list.append(review.text.strip())\n",
    "    else :\n",
    "        pass\n",
    "    \n",
    "    \n",
    "    \n",
    "print(len(agent_list)  ,len(developer_list) , len(cost_list) , len(review_list))"
   ]
  },
  {
   "cell_type": "code",
   "execution_count": 283,
   "id": "91beb6ed-f8f1-49e3-a9b9-58674f1997c9",
   "metadata": {},
   "outputs": [],
   "source": [
    "# splitting the review list\n",
    "task_completions = [] \n",
    "task_reviews = [] \n",
    "\n",
    "for i in range(0, len(review_list), 2):\n",
    "    task_completions.append(review_list[i])\n",
    "    task_reviews.append(review_list[i+1])"
   ]
  },
  {
   "cell_type": "code",
   "execution_count": null,
   "id": "d4a84bf7-2513-4bf3-95a8-d07308035786",
   "metadata": {},
   "outputs": [],
   "source": [
    "#response = app.scrape_url(url=\"https://agent.ai/?page=2\", formats = [ 'html' ])"
   ]
  },
  {
   "cell_type": "code",
   "execution_count": null,
   "id": "4f6fc38b-1d24-4409-89c8-f799dcdc81d7",
   "metadata": {},
   "outputs": [],
   "source": [
    "#converting the response to a soup object for easy matching \n",
    "soup = BeautifulSoup(response.html , 'html.parser')\n",
    "\n"
   ]
  },
  {
   "cell_type": "code",
   "execution_count": null,
   "id": "2ddf7e65-567f-4472-ac20-038644291c33",
   "metadata": {},
   "outputs": [],
   "source": [
    "print(len(agent_list)  ,len(developer_list))"
   ]
  },
  {
   "cell_type": "code",
   "execution_count": null,
   "id": "a8d26099-0ef1-4a68-9369-80b93f4a64c9",
   "metadata": {},
   "outputs": [],
   "source": [
    "print(len(agent_list)  ,len(developer_list) , len(cost_list) , len(task_completions) , len(task_reviews))"
   ]
  },
  {
   "cell_type": "markdown",
   "id": "8cadf7c9-92d5-4fd5-9207-ddb8b6c36d93",
   "metadata": {},
   "source": [
    "#### Creating the Dataframe"
   ]
  },
  {
   "cell_type": "code",
   "execution_count": null,
   "id": "3f91e5ee-2baf-492a-8a8c-94b4654fa9c4",
   "metadata": {},
   "outputs": [],
   "source": [
    "#Creating the dataframe \n",
    "# developer information may be missing -  \"agent_developer\":developer_list,\n",
    "\n",
    "agent_ai = pd.DataFrame(data = {\"agent_name\":agent_list,                              \n",
    "                                \"agent_cost\":cost_list,\n",
    "                                     \"task_completions\":task_completions,\n",
    "                                     \"agent_reviews\":task_reviews})"
   ]
  },
  {
   "cell_type": "code",
   "execution_count": null,
   "id": "021030a4-3460-4353-b249-cfdc1cb977ab",
   "metadata": {},
   "outputs": [],
   "source": [
    "# Enabling sting manipulation \n",
    "agent_ai = agent_ai.astype(str)"
   ]
  },
  {
   "cell_type": "code",
   "execution_count": null,
   "id": "c5957667-c8cc-4c9f-9572-fb7d3d301fcb",
   "metadata": {},
   "outputs": [],
   "source": [
    "#Extracting the cost \n",
    "agent_ai['agent_cost'] = agent_ai['agent_cost'].apply(lambda x : int(x.split(\" \",maxsplit = 4)[0]))"
   ]
  },
  {
   "cell_type": "code",
   "execution_count": null,
   "id": "909b683a-505f-496a-ad85-e12b63b3cedf",
   "metadata": {},
   "outputs": [],
   "source": [
    "#Extracting the task  completions \n",
    "agent_ai['task_completions'] = agent_ai['task_completions'].apply(lambda x : (x.split(\" \",maxsplit = 4)[0]))"
   ]
  },
  {
   "cell_type": "code",
   "execution_count": null,
   "id": "f4bdaefa-8c78-4c23-bb00-b98fdfe05b64",
   "metadata": {},
   "outputs": [],
   "source": [
    "agent_ai.head(10)"
   ]
  },
  {
   "cell_type": "code",
   "execution_count": null,
   "id": "f3e4af86-d12b-4dc8-835d-ae30bb2e5363",
   "metadata": {},
   "outputs": [],
   "source": [
    "#Extracting the reviews , removing the int cast because some agents can come without reviews \n",
    "agent_ai['agent_ratings'] = agent_ai['agent_reviews'].apply(lambda x : x.split(\" \",maxsplit = 4)[0])"
   ]
  },
  {
   "cell_type": "code",
   "execution_count": null,
   "id": "497e9cc4-dd78-4665-8a21-ac87ec892378",
   "metadata": {},
   "outputs": [],
   "source": [
    "import numpy as np "
   ]
  },
  {
   "cell_type": "code",
   "execution_count": null,
   "id": "a194da4c-11e1-43da-aaa6-92b259841d62",
   "metadata": {},
   "outputs": [],
   "source": [
    "agent_ai['agent_reviews']"
   ]
  },
  {
   "cell_type": "code",
   "execution_count": null,
   "id": "d00af810-ca07-4a38-b067-ba35727ad693",
   "metadata": {},
   "outputs": [],
   "source": [
    "agent_ai['agent_reviews'].apply(lambda x : x.split(\" \"))"
   ]
  },
  {
   "cell_type": "code",
   "execution_count": null,
   "id": "82f3c307-19e5-42a5-a145-1f2642fe86c4",
   "metadata": {},
   "outputs": [],
   "source": [
    "agent_ai['agent_reviews'] = agent_ai['agent_reviews'].apply(lambda x : x.split(\" \")[1] if len(x.split(\" \")) > 1 else None)"
   ]
  },
  {
   "cell_type": "code",
   "execution_count": null,
   "id": "cd0ba172-43eb-49ad-83f1-4b305492863c",
   "metadata": {},
   "outputs": [],
   "source": [
    "agent_ai['agent_reviews'] =  agent_ai['agent_reviews'].apply(lambda x : x.split(\"(\",maxsplit = 4)[1].replace(\"(\",'').replace(\")\",'') if x is not None else None )"
   ]
  },
  {
   "cell_type": "code",
   "execution_count": null,
   "id": "f1eafc44-ebe6-4df8-aab1-a66c595d321d",
   "metadata": {},
   "outputs": [],
   "source": [
    "agent_ai.head(4)"
   ]
  },
  {
   "cell_type": "code",
   "execution_count": null,
   "id": "b5bad504-edfd-461d-8f5a-ca4477cb0a39",
   "metadata": {},
   "outputs": [],
   "source": [
    "# #Creating a new no of reviews column \n",
    "# agent_ai['agent_review_no'] = agent_ai['agent_reviews'].apply(lambda x : x.split(\" \",maxsplit = 4)[1].replace(\"(\",'').replace(\")\",''))"
   ]
  },
  {
   "cell_type": "code",
   "execution_count": null,
   "id": "426a00f0-afa0-4882-8e4a-b04ac87af42b",
   "metadata": {},
   "outputs": [],
   "source": [
    "# #Creating a new no of reviews column \n",
    "# agent_ai['agent_review_no'] = agent_ai['agent_reviews'].apply(lambda x : x.split(\" \",maxsplit = 4)[1].replace(\"(\",'').replace(\")\",''))"
   ]
  },
  {
   "cell_type": "code",
   "execution_count": null,
   "id": "16d1d402-6ca5-4eaf-8007-c28fe53e0451",
   "metadata": {},
   "outputs": [],
   "source": [
    "# #dropping redundant  columns \n",
    "# agent_ai.drop('agent_reviews' , axis = 1, inplace = True)"
   ]
  },
  {
   "cell_type": "code",
   "execution_count": null,
   "id": "89ca5e9e-37c5-4b31-ac2e-ff1e39dec61b",
   "metadata": {},
   "outputs": [],
   "source": [
    "#Extracting the multiplier\n",
    "agent_ai['multiplier'] = agent_ai['task_completions'].apply(lambda x : 1000 if 'K' in str(x) else 1)"
   ]
  },
  {
   "cell_type": "code",
   "execution_count": null,
   "id": "c641cdad-52ee-4b93-92e5-a05bae053ce9",
   "metadata": {},
   "outputs": [],
   "source": [
    "#Replacing the thousands identifier\n",
    "agent_ai['task_completions'] = agent_ai['task_completions'].apply(lambda x : float(x.replace(\"K\",'').strip()))"
   ]
  },
  {
   "cell_type": "code",
   "execution_count": null,
   "id": "cf9fbf5c-75ee-4ab2-916b-09486af066c8",
   "metadata": {},
   "outputs": [],
   "source": [
    "#Multiplications and type conversion\n",
    "agent_ai['task_completions'] = agent_ai['task_completions']*agent_ai['multiplier']\n",
    "agent_ai['task_completions'] = agent_ai['task_completions'].astype(int)\n",
    "\n",
    "#dropping helper  columns \n",
    "agent_ai.drop('multiplier' , axis = 1, inplace = True)"
   ]
  },
  {
   "cell_type": "code",
   "execution_count": null,
   "id": "72cc2eaf-4f8a-4e3a-9c4c-357fa2d5b6a0",
   "metadata": {},
   "outputs": [],
   "source": [
    "agent_ai['agent_name'] = agent_ai['agent_name'].astype(str)"
   ]
  },
  {
   "cell_type": "code",
   "execution_count": null,
   "id": "c9e1422c-b05d-4587-b2f7-0789652fe945",
   "metadata": {},
   "outputs": [],
   "source": [
    "agent_ai.reset_index(drop = True).head(15)"
   ]
  },
  {
   "cell_type": "code",
   "execution_count": null,
   "id": "73595f1f-626e-4bce-b223-97e1193c62e0",
   "metadata": {},
   "outputs": [],
   "source": [
    "agent_ai.head()"
   ]
  },
  {
   "cell_type": "code",
   "execution_count": null,
   "id": "9e0fe2bb-ecd9-4d59-8e3e-a5a4d0a00e76",
   "metadata": {},
   "outputs": [],
   "source": [
    "agent_ai.to_csv('agents_marketplace_data.csv', index = False)"
   ]
  },
  {
   "cell_type": "code",
   "execution_count": null,
   "id": "187eec2a-e4b4-46ae-9034-8afa46b81a70",
   "metadata": {},
   "outputs": [],
   "source": [
    "#showing completeness "
   ]
  },
  {
   "cell_type": "code",
   "execution_count": null,
   "id": "d8104712-1060-48f8-96ef-bdc1eaadbb42",
   "metadata": {},
   "outputs": [],
   "source": [
    "import missingno as msno"
   ]
  },
  {
   "cell_type": "code",
   "execution_count": null,
   "id": "fd99e8ae-54be-4904-b259-61d9176a2d41",
   "metadata": {},
   "outputs": [],
   "source": [
    "msno.matrix(agent_ai)"
   ]
  },
  {
   "cell_type": "code",
   "execution_count": null,
   "id": "13461591-d0b0-434d-946b-942829ef62d2",
   "metadata": {},
   "outputs": [],
   "source": [
    "import seaborn as sns "
   ]
  },
  {
   "cell_type": "code",
   "execution_count": 284,
   "id": "d403d58b-8f6c-4694-8b56-a75312ec8e7e",
   "metadata": {},
   "outputs": [],
   "source": [
    "import pandas as pd "
   ]
  },
  {
   "cell_type": "code",
   "execution_count": 285,
   "id": "0447fe49-294b-4885-8ee1-aa1de4dd315a",
   "metadata": {},
   "outputs": [],
   "source": [
    "agent_ai = pd.read_csv('agents_marketplace_data.csv')"
   ]
  },
  {
   "cell_type": "code",
   "execution_count": 290,
   "id": "fabb486a-b657-45fb-bd1a-d483c00d09e6",
   "metadata": {},
   "outputs": [
    {
     "data": {
      "text/html": [
       "<div>\n",
       "<style scoped>\n",
       "    .dataframe tbody tr th:only-of-type {\n",
       "        vertical-align: middle;\n",
       "    }\n",
       "\n",
       "    .dataframe tbody tr th {\n",
       "        vertical-align: top;\n",
       "    }\n",
       "\n",
       "    .dataframe thead th {\n",
       "        text-align: right;\n",
       "    }\n",
       "</style>\n",
       "<table border=\"1\" class=\"dataframe\">\n",
       "  <thead>\n",
       "    <tr style=\"text-align: right;\">\n",
       "      <th></th>\n",
       "      <th>agent_name</th>\n",
       "      <th>agent_cost</th>\n",
       "      <th>task_completions</th>\n",
       "      <th>agent_reviews</th>\n",
       "      <th>agent_ratings</th>\n",
       "    </tr>\n",
       "  </thead>\n",
       "  <tbody>\n",
       "    <tr>\n",
       "      <th>0</th>\n",
       "      <td>Company Research Agent</td>\n",
       "      <td>1</td>\n",
       "      <td>25200</td>\n",
       "      <td>2728.0</td>\n",
       "      <td>4.28</td>\n",
       "    </tr>\n",
       "    <tr>\n",
       "      <th>1</th>\n",
       "      <td>Flux Image Generator</td>\n",
       "      <td>1</td>\n",
       "      <td>598400</td>\n",
       "      <td>21862.0</td>\n",
       "      <td>4.26</td>\n",
       "    </tr>\n",
       "    <tr>\n",
       "      <th>2</th>\n",
       "      <td>QuickSketchAI: Interactive Prototype Generator</td>\n",
       "      <td>1</td>\n",
       "      <td>506</td>\n",
       "      <td>8.0</td>\n",
       "      <td>4.38</td>\n",
       "    </tr>\n",
       "    <tr>\n",
       "      <th>3</th>\n",
       "      <td>Ideal Customer Profile (ICP) Builder</td>\n",
       "      <td>1</td>\n",
       "      <td>13000</td>\n",
       "      <td>1248.0</td>\n",
       "      <td>4.42</td>\n",
       "    </tr>\n",
       "    <tr>\n",
       "      <th>4</th>\n",
       "      <td>HubSpot App Marketplace Listing Grader</td>\n",
       "      <td>1</td>\n",
       "      <td>10300</td>\n",
       "      <td>1116.0</td>\n",
       "      <td>4.40</td>\n",
       "    </tr>\n",
       "  </tbody>\n",
       "</table>\n",
       "</div>"
      ],
      "text/plain": [
       "                                       agent_name  agent_cost  \\\n",
       "0                          Company Research Agent           1   \n",
       "1                            Flux Image Generator           1   \n",
       "2  QuickSketchAI: Interactive Prototype Generator           1   \n",
       "3            Ideal Customer Profile (ICP) Builder           1   \n",
       "4          HubSpot App Marketplace Listing Grader           1   \n",
       "\n",
       "   task_completions  agent_reviews  agent_ratings  \n",
       "0             25200         2728.0           4.28  \n",
       "1            598400        21862.0           4.26  \n",
       "2               506            8.0           4.38  \n",
       "3             13000         1248.0           4.42  \n",
       "4             10300         1116.0           4.40  "
      ]
     },
     "execution_count": 290,
     "metadata": {},
     "output_type": "execute_result"
    }
   ],
   "source": [
    "agent_ai[agent_ai['agent_ratings']!=''].head(5)"
   ]
  },
  {
   "cell_type": "code",
   "execution_count": 289,
   "id": "20ae4abc-2b65-4798-a2b2-fcba51b84a06",
   "metadata": {},
   "outputs": [
    {
     "data": {
      "image/png": "[encoded data removed]",
      "text/plain": [
       "<Figure size 640x480 with 1 Axes>"
      ]
     },
     "metadata": {},
     "output_type": "display_data"
    }
   ],
   "source": [
    "import matplotlib.pyplot as plt\n",
    "sns.histplot(agent_ai[agent_ai['agent_ratings']!='']['agent_ratings'])\n",
    "plt.show()"
   ]
  },
  {
   "cell_type": "code",
   "execution_count": null,
   "id": "6d23052b-f7ff-4670-8479-0065688fca59",
   "metadata": {},
   "outputs": [],
   "source": []
  }
 ],
 "metadata": {
  "kernelspec": {
   "display_name": "Python (ai-env)",
   "language": "python",
   "name": "ai-env"
  },
  "language_info": {
   "codemirror_mode": {
    "name": "ipython",
    "version": 3
   },
   "file_extension": ".py",
   "mimetype": "text/x-python",
   "name": "python",
   "nbconvert_exporter": "python",
   "pygments_lexer": "ipython3",
   "version": "3.12.4"
  }
 },
 "nbformat": 4,
 "nbformat_minor": 5
}
