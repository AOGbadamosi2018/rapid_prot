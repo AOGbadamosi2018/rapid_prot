{
 "cells": [
  {
   "cell_type": "markdown",
   "id": "8d4c5a40-c12b-47fa-b8ac-fdfa21414e34",
   "metadata": {},
   "source": [
    "#### A. Importing the necessary modules "
   ]
  },
  {
   "cell_type": "code",
   "execution_count": 8,
   "id": "c21492e9-67fe-43c0-84b6-5b0eb6c833c8",
   "metadata": {},
   "outputs": [
    {
     "data": {
      "text/plain": [
       "True"
      ]
     },
     "execution_count": 8,
     "metadata": {},
     "output_type": "execute_result"
    }
   ],
   "source": [
    "import os\n",
    "from firecrawl import FirecrawlApp\n",
    "import pandas as pd \n",
    "from dotenv import load_dotenv\n",
    "\n",
    "#using beautiful soup to find the elements \n",
    "from bs4 import BeautifulSoup\n",
    "import requests \n",
    "\n",
    "# Install with pip install firecrawl-py\n",
    "from firecrawl import FirecrawlApp\n",
    "\n",
    "load_dotenv()"
   ]
  },
  {
   "cell_type": "markdown",
   "id": "284b408f-67bc-45d0-a1ac-7ec416dc154e",
   "metadata": {},
   "source": [
    "#### B. Initializing the scraping app"
   ]
  },
  {
   "cell_type": "code",
   "execution_count": 14,
   "id": "feb7d30e-ac70-488c-a9bd-22c5e4f36b01",
   "metadata": {},
   "outputs": [],
   "source": [
    "# Initializing the application \n",
    "app = FirecrawlApp(api_key=firecrawl_api_key)"
   ]
  },
  {
   "cell_type": "code",
   "execution_count": null,
   "id": "02dfd529-724d-4635-a4b8-32342e496aaa",
   "metadata": {},
   "outputs": [],
   "source": [
    "#going through the pages \n",
    "#Defining the lists to collect the data \n",
    "agent_list = []\n",
    "developer_list = []\n",
    "cost_list = []\n",
    "review_list = [] \n",
    "\n",
    "for page in range (1,118) :\n",
    "    base_link = f\"https://agent.ai/?page={page}\"\n",
    "    #print(base_link)\n",
    "    \n",
    "    #bypassing dynamic pages with firecrawl scraper\n",
    "    response = app.scrape_url(url=base_link, formats = [ 'html' ])\n",
    "\n",
    "    #converting scrape html to a beautiful soup object\n",
    "    soup = BeautifulSoup(response.html , 'html.parser')\n",
    "\n",
    "    #Focusing on the AI Marketplace on each page \n",
    "    pt4_section = soup.html.select_one('.pt-4')\n",
    "    \n",
    "        #Extracting the relevant data on page 2\n",
    "    if pt4_section:\n",
    "        agent_name = soup.select(\".profile__name\")\n",
    "        dev_name = soup.select(\".profile__developer\")\n",
    "        review_name = soup.select(\".profile__experience\")\n",
    "        cost_name = soup.select(\".profile__salary\")\n",
    "        \n",
    "        for agent in agent_name: \n",
    "            agent_list.append(agent.text.strip())\n",
    "        \n",
    "        for dev in dev_name: \n",
    "            developer_list.append(dev.text.strip())\n",
    "        \n",
    "        for cost in cost_name: \n",
    "            cost_list.append(cost.text.strip())\n",
    "        \n",
    "        for review in review_name: \n",
    "            review_list.append(review.text.strip())\n",
    "    else :\n",
    "        pass\n",
    "    \n",
    "    \n",
    "    \n",
    "    print(len(agent_list)  ,len(developer_list) , len(cost_list) , len(review_list))"
   ]
  },
  {
   "cell_type": "code",
   "execution_count": null,
   "id": "91beb6ed-f8f1-49e3-a9b9-58674f1997c9",
   "metadata": {},
   "outputs": [],
   "source": [
    "# splitting the review list\n",
    "task_completions = [] \n",
    "task_reviews = [] \n",
    "\n",
    "for i in range(0, len(review_list), 2):\n",
    "    task_completions.append(review_list[i])\n",
    "    task_reviews.append(review_list[i+1])"
   ]
  },
  {
   "cell_type": "code",
   "execution_count": 47,
   "id": "d4a84bf7-2513-4bf3-95a8-d07308035786",
   "metadata": {},
   "outputs": [],
   "source": [
    "#response = app.scrape_url(url=\"https://agent.ai/?page=2\", formats = [ 'html' ])"
   ]
  },
  {
   "cell_type": "code",
   "execution_count": 48,
   "id": "4f6fc38b-1d24-4409-89c8-f799dcdc81d7",
   "metadata": {},
   "outputs": [],
   "source": [
    "#converting the response to a soup object for easy matching \n",
    "soup = BeautifulSoup(response.html , 'html.parser')\n",
    "\n"
   ]
  },
  {
   "cell_type": "code",
   "execution_count": 243,
   "id": "c2910fab-e888-4a09-9618-de767d16f067",
   "metadata": {},
   "outputs": [],
   "source": []
  },
  {
   "cell_type": "code",
   "execution_count": 204,
   "id": "1fda5548-abcd-4b22-9337-faf155a794a0",
   "metadata": {},
   "outputs": [
    {
     "name": "stdout",
     "output_type": "stream",
     "text": [
      "15 12 15 30\n"
     ]
    }
   ],
   "source": []
  },
  {
   "cell_type": "code",
   "execution_count": 235,
   "id": "2ddf7e65-567f-4472-ac20-038644291c33",
   "metadata": {},
   "outputs": [
    {
     "name": "stdout",
     "output_type": "stream",
     "text": [
      "0 0\n"
     ]
    }
   ],
   "source": [
    "print(len(agent_list)  ,len(developer_list))"
   ]
  },
  {
   "cell_type": "code",
   "execution_count": 205,
   "id": "9a3575ac-d77f-47fa-8010-957333e76c73",
   "metadata": {},
   "outputs": [],
   "source": []
  },
  {
   "cell_type": "code",
   "execution_count": 206,
   "id": "a8d26099-0ef1-4a68-9369-80b93f4a64c9",
   "metadata": {},
   "outputs": [
    {
     "name": "stdout",
     "output_type": "stream",
     "text": [
      "15 12 15 15 15\n"
     ]
    }
   ],
   "source": [
    "print(len(agent_list)  ,len(developer_list) , len(cost_list) , len(task_completions) , len(task_reviews))"
   ]
  },
  {
   "cell_type": "markdown",
   "id": "8cadf7c9-92d5-4fd5-9207-ddb8b6c36d93",
   "metadata": {},
   "source": [
    "#### Creating the Dataframe"
   ]
  },
  {
   "cell_type": "code",
   "execution_count": 207,
   "id": "3f91e5ee-2baf-492a-8a8c-94b4654fa9c4",
   "metadata": {},
   "outputs": [],
   "source": [
    "#Creating the dataframe \n",
    "# developer information may be missing -  \"agent_developer\":developer_list,\n",
    "\n",
    "agent_ai = pd.DataFrame(data = {\"agent_name\":agent_list,                              \n",
    "                                \"agent_cost\":cost_list,\n",
    "                                     \"task_completions\":task_completions,\n",
    "                                     \"agent_reviews\":task_reviews})"
   ]
  },
  {
   "cell_type": "code",
   "execution_count": 208,
   "id": "021030a4-3460-4353-b249-cfdc1cb977ab",
   "metadata": {},
   "outputs": [],
   "source": [
    "# Enabling sting manipulation \n",
    "agent_ai = agent_ai.astype(str)"
   ]
  },
  {
   "cell_type": "code",
   "execution_count": 209,
   "id": "426a00f0-afa0-4882-8e4a-b04ac87af42b",
   "metadata": {},
   "outputs": [],
   "source": [
    "#Extracting the cost \n",
    "agent_ai['agent_cost'] = agent_ai['agent_cost'].apply(lambda x : int(x.split(\" \",maxsplit = 4)[0]))\n",
    "#Extracting the task  completions \n",
    "agent_ai['task_completions'] = agent_ai['task_completions'].apply(lambda x : (x.split(\" \",maxsplit = 4)[0]))\n",
    "#Extracting the reviews \n",
    "agent_ai['agent_ratings'] = agent_ai['agent_reviews'].apply(lambda x : float(x.split(\" \",maxsplit = 4)[0]))\n",
    "#Creating a new no of reviews column \n",
    "agent_ai['agent_review_no'] = agent_ai['agent_reviews'].apply(lambda x : int(x.split(\" \",maxsplit = 4)[1].replace(\"(\",'').replace(\")\",'')))"
   ]
  },
  {
   "cell_type": "code",
   "execution_count": 210,
   "id": "16d1d402-6ca5-4eaf-8007-c28fe53e0451",
   "metadata": {},
   "outputs": [],
   "source": [
    "#dropping redundant  columns \n",
    "agent_ai.drop('agent_reviews' , axis = 1, inplace = True)"
   ]
  },
  {
   "cell_type": "code",
   "execution_count": 211,
   "id": "89ca5e9e-37c5-4b31-ac2e-ff1e39dec61b",
   "metadata": {},
   "outputs": [],
   "source": [
    "#Extracting the multiplier\n",
    "agent_ai['multiplier'] = agent_ai['task_completions'].apply(lambda x : 1000 if 'K' in str(x) else 1)"
   ]
  },
  {
   "cell_type": "code",
   "execution_count": 212,
   "id": "c641cdad-52ee-4b93-92e5-a05bae053ce9",
   "metadata": {},
   "outputs": [],
   "source": [
    "#Replacing the thousands identifier\n",
    "agent_ai['task_completions'] = agent_ai['task_completions'].apply(lambda x : float(x.replace(\"K\",'').strip()))"
   ]
  },
  {
   "cell_type": "code",
   "execution_count": 213,
   "id": "cf9fbf5c-75ee-4ab2-916b-09486af066c8",
   "metadata": {},
   "outputs": [],
   "source": [
    "#Multiplications and type conversion\n",
    "agent_ai['task_completions'] = agent_ai['task_completions']*agent_ai['multiplier']\n",
    "agent_ai['task_completions'] = agent_ai['task_completions'].astype(int)\n",
    "\n",
    "#dropping helper  columns \n",
    "agent_ai.drop('multiplier' , axis = 1, inplace = True)"
   ]
  },
  {
   "cell_type": "code",
   "execution_count": 214,
   "id": "72cc2eaf-4f8a-4e3a-9c4c-357fa2d5b6a0",
   "metadata": {},
   "outputs": [],
   "source": [
    "agent_ai['agent_name'] = agent_ai['agent_name'].astype(str)"
   ]
  },
  {
   "cell_type": "code",
   "execution_count": 215,
   "id": "c9e1422c-b05d-4587-b2f7-0789652fe945",
   "metadata": {},
   "outputs": [
    {
     "data": {
      "text/html": [
       "<div>\n",
       "<style scoped>\n",
       "    .dataframe tbody tr th:only-of-type {\n",
       "        vertical-align: middle;\n",
       "    }\n",
       "\n",
       "    .dataframe tbody tr th {\n",
       "        vertical-align: top;\n",
       "    }\n",
       "\n",
       "    .dataframe thead th {\n",
       "        text-align: right;\n",
       "    }\n",
       "</style>\n",
       "<table border=\"1\" class=\"dataframe\">\n",
       "  <thead>\n",
       "    <tr style=\"text-align: right;\">\n",
       "      <th></th>\n",
       "      <th>agent_name</th>\n",
       "      <th>agent_cost</th>\n",
       "      <th>task_completions</th>\n",
       "      <th>agent_ratings</th>\n",
       "      <th>agent_review_no</th>\n",
       "    </tr>\n",
       "  </thead>\n",
       "  <tbody>\n",
       "    <tr>\n",
       "      <th>0</th>\n",
       "      <td>Company Research Agent</td>\n",
       "      <td>1</td>\n",
       "      <td>25200</td>\n",
       "      <td>4.28</td>\n",
       "      <td>2692</td>\n",
       "    </tr>\n",
       "    <tr>\n",
       "      <th>1</th>\n",
       "      <td>Flux Image Generator</td>\n",
       "      <td>1</td>\n",
       "      <td>577600</td>\n",
       "      <td>4.26</td>\n",
       "      <td>21468</td>\n",
       "    </tr>\n",
       "    <tr>\n",
       "      <th>2</th>\n",
       "      <td>ObjectionOwl: Your AI-Powered Sales Call Objec...</td>\n",
       "      <td>1</td>\n",
       "      <td>112</td>\n",
       "      <td>5.00</td>\n",
       "      <td>6</td>\n",
       "    </tr>\n",
       "    <tr>\n",
       "      <th>3</th>\n",
       "      <td>YouTube Transcript Generator</td>\n",
       "      <td>1</td>\n",
       "      <td>34000</td>\n",
       "      <td>4.37</td>\n",
       "      <td>2757</td>\n",
       "    </tr>\n",
       "    <tr>\n",
       "      <th>4</th>\n",
       "      <td>HubSpot Marketplace Review Reply Generator</td>\n",
       "      <td>1</td>\n",
       "      <td>406</td>\n",
       "      <td>4.51</td>\n",
       "      <td>51</td>\n",
       "    </tr>\n",
       "    <tr>\n",
       "      <th>5</th>\n",
       "      <td>Customer Persona Builder</td>\n",
       "      <td>1</td>\n",
       "      <td>2000</td>\n",
       "      <td>4.33</td>\n",
       "      <td>98</td>\n",
       "    </tr>\n",
       "    <tr>\n",
       "      <th>6</th>\n",
       "      <td>App Partner Finder</td>\n",
       "      <td>1</td>\n",
       "      <td>447</td>\n",
       "      <td>4.18</td>\n",
       "      <td>11</td>\n",
       "    </tr>\n",
       "    <tr>\n",
       "      <th>7</th>\n",
       "      <td>Personalized Executive Outreach</td>\n",
       "      <td>1</td>\n",
       "      <td>7600</td>\n",
       "      <td>4.00</td>\n",
       "      <td>43</td>\n",
       "    </tr>\n",
       "    <tr>\n",
       "      <th>8</th>\n",
       "      <td>Zoom Call Ice Breaker</td>\n",
       "      <td>1</td>\n",
       "      <td>4000</td>\n",
       "      <td>4.37</td>\n",
       "      <td>134</td>\n",
       "    </tr>\n",
       "    <tr>\n",
       "      <th>9</th>\n",
       "      <td>3 So What's</td>\n",
       "      <td>1</td>\n",
       "      <td>1900</td>\n",
       "      <td>4.15</td>\n",
       "      <td>33</td>\n",
       "    </tr>\n",
       "    <tr>\n",
       "      <th>10</th>\n",
       "      <td>Unhelpful Life Goals Coach</td>\n",
       "      <td>1</td>\n",
       "      <td>1600</td>\n",
       "      <td>4.68</td>\n",
       "      <td>76</td>\n",
       "    </tr>\n",
       "    <tr>\n",
       "      <th>11</th>\n",
       "      <td>Generate Youtube Discussion Questions</td>\n",
       "      <td>1</td>\n",
       "      <td>471</td>\n",
       "      <td>4.13</td>\n",
       "      <td>30</td>\n",
       "    </tr>\n",
       "    <tr>\n",
       "      <th>12</th>\n",
       "      <td>Techpresso's Linkedin profile optimizer</td>\n",
       "      <td>1</td>\n",
       "      <td>5100</td>\n",
       "      <td>4.54</td>\n",
       "      <td>48</td>\n",
       "    </tr>\n",
       "    <tr>\n",
       "      <th>13</th>\n",
       "      <td>BiosphereAI by inloop.studio</td>\n",
       "      <td>1</td>\n",
       "      <td>228</td>\n",
       "      <td>5.00</td>\n",
       "      <td>17</td>\n",
       "    </tr>\n",
       "    <tr>\n",
       "      <th>14</th>\n",
       "      <td>PTO &amp; Vacation Maximizer (US-based)</td>\n",
       "      <td>1</td>\n",
       "      <td>750</td>\n",
       "      <td>4.40</td>\n",
       "      <td>30</td>\n",
       "    </tr>\n",
       "  </tbody>\n",
       "</table>\n",
       "</div>"
      ],
      "text/plain": [
       "                                           agent_name  agent_cost  \\\n",
       "0                              Company Research Agent           1   \n",
       "1                                Flux Image Generator           1   \n",
       "2   ObjectionOwl: Your AI-Powered Sales Call Objec...           1   \n",
       "3                        YouTube Transcript Generator           1   \n",
       "4          HubSpot Marketplace Review Reply Generator           1   \n",
       "5                            Customer Persona Builder           1   \n",
       "6                                  App Partner Finder           1   \n",
       "7                     Personalized Executive Outreach           1   \n",
       "8                               Zoom Call Ice Breaker           1   \n",
       "9                                         3 So What's           1   \n",
       "10                         Unhelpful Life Goals Coach           1   \n",
       "11              Generate Youtube Discussion Questions           1   \n",
       "12            Techpresso's Linkedin profile optimizer           1   \n",
       "13                       BiosphereAI by inloop.studio           1   \n",
       "14                PTO & Vacation Maximizer (US-based)           1   \n",
       "\n",
       "    task_completions  agent_ratings  agent_review_no  \n",
       "0              25200           4.28             2692  \n",
       "1             577600           4.26            21468  \n",
       "2                112           5.00                6  \n",
       "3              34000           4.37             2757  \n",
       "4                406           4.51               51  \n",
       "5               2000           4.33               98  \n",
       "6                447           4.18               11  \n",
       "7               7600           4.00               43  \n",
       "8               4000           4.37              134  \n",
       "9               1900           4.15               33  \n",
       "10              1600           4.68               76  \n",
       "11               471           4.13               30  \n",
       "12              5100           4.54               48  \n",
       "13               228           5.00               17  \n",
       "14               750           4.40               30  "
      ]
     },
     "execution_count": 215,
     "metadata": {},
     "output_type": "execute_result"
    }
   ],
   "source": [
    "agent_ai.reset_index(drop = True).head(15)"
   ]
  },
  {
   "cell_type": "code",
   "execution_count": 216,
   "id": "73595f1f-626e-4bce-b223-97e1193c62e0",
   "metadata": {},
   "outputs": [
    {
     "data": {
      "text/html": [
       "<div>\n",
       "<style scoped>\n",
       "    .dataframe tbody tr th:only-of-type {\n",
       "        vertical-align: middle;\n",
       "    }\n",
       "\n",
       "    .dataframe tbody tr th {\n",
       "        vertical-align: top;\n",
       "    }\n",
       "\n",
       "    .dataframe thead th {\n",
       "        text-align: right;\n",
       "    }\n",
       "</style>\n",
       "<table border=\"1\" class=\"dataframe\">\n",
       "  <thead>\n",
       "    <tr style=\"text-align: right;\">\n",
       "      <th></th>\n",
       "      <th>agent_name</th>\n",
       "      <th>agent_cost</th>\n",
       "      <th>task_completions</th>\n",
       "      <th>agent_ratings</th>\n",
       "      <th>agent_review_no</th>\n",
       "    </tr>\n",
       "  </thead>\n",
       "  <tbody>\n",
       "    <tr>\n",
       "      <th>0</th>\n",
       "      <td>Company Research Agent</td>\n",
       "      <td>1</td>\n",
       "      <td>25200</td>\n",
       "      <td>4.28</td>\n",
       "      <td>2692</td>\n",
       "    </tr>\n",
       "    <tr>\n",
       "      <th>1</th>\n",
       "      <td>Flux Image Generator</td>\n",
       "      <td>1</td>\n",
       "      <td>577600</td>\n",
       "      <td>4.26</td>\n",
       "      <td>21468</td>\n",
       "    </tr>\n",
       "    <tr>\n",
       "      <th>2</th>\n",
       "      <td>ObjectionOwl: Your AI-Powered Sales Call Objec...</td>\n",
       "      <td>1</td>\n",
       "      <td>112</td>\n",
       "      <td>5.00</td>\n",
       "      <td>6</td>\n",
       "    </tr>\n",
       "    <tr>\n",
       "      <th>3</th>\n",
       "      <td>YouTube Transcript Generator</td>\n",
       "      <td>1</td>\n",
       "      <td>34000</td>\n",
       "      <td>4.37</td>\n",
       "      <td>2757</td>\n",
       "    </tr>\n",
       "    <tr>\n",
       "      <th>4</th>\n",
       "      <td>HubSpot Marketplace Review Reply Generator</td>\n",
       "      <td>1</td>\n",
       "      <td>406</td>\n",
       "      <td>4.51</td>\n",
       "      <td>51</td>\n",
       "    </tr>\n",
       "  </tbody>\n",
       "</table>\n",
       "</div>"
      ],
      "text/plain": [
       "                                          agent_name  agent_cost  \\\n",
       "0                             Company Research Agent           1   \n",
       "1                               Flux Image Generator           1   \n",
       "2  ObjectionOwl: Your AI-Powered Sales Call Objec...           1   \n",
       "3                       YouTube Transcript Generator           1   \n",
       "4         HubSpot Marketplace Review Reply Generator           1   \n",
       "\n",
       "   task_completions  agent_ratings  agent_review_no  \n",
       "0             25200           4.28             2692  \n",
       "1            577600           4.26            21468  \n",
       "2               112           5.00                6  \n",
       "3             34000           4.37             2757  \n",
       "4               406           4.51               51  "
      ]
     },
     "execution_count": 216,
     "metadata": {},
     "output_type": "execute_result"
    }
   ],
   "source": [
    "agent_ai.head()"
   ]
  },
  {
   "cell_type": "code",
   "execution_count": 219,
   "id": "187eec2a-e4b4-46ae-9034-8afa46b81a70",
   "metadata": {},
   "outputs": [],
   "source": [
    "#showing completeness "
   ]
  },
  {
   "cell_type": "code",
   "execution_count": 217,
   "id": "d8104712-1060-48f8-96ef-bdc1eaadbb42",
   "metadata": {},
   "outputs": [],
   "source": [
    "import missingno as msno"
   ]
  },
  {
   "cell_type": "code",
   "execution_count": 218,
   "id": "fd99e8ae-54be-4904-b259-61d9176a2d41",
   "metadata": {},
   "outputs": [
    {
     "data": {
      "text/plain": [
       "<Axes: >"
      ]
     },
     "execution_count": 218,
     "metadata": {},
     "output_type": "execute_result"
    },
    {
     "data": {
      "image/png": "[encoded data removed]",
      "text/plain": [
       "<Figure size 2500x1000 with 2 Axes>"
      ]
     },
     "metadata": {},
     "output_type": "display_data"
    }
   ],
   "source": [
    "msno.matrix(agent_ai)"
   ]
  },
  {
   "cell_type": "code",
   "execution_count": 103,
   "id": "13461591-d0b0-434d-946b-942829ef62d2",
   "metadata": {},
   "outputs": [],
   "source": []
  }
 ],
 "metadata": {
  "kernelspec": {
   "display_name": "Python (ai-env)",
   "language": "python",
   "name": "ai-env"
  },
  "language_info": {
   "codemirror_mode": {
    "name": "ipython",
    "version": 3
   },
   "file_extension": ".py",
   "mimetype": "text/x-python",
   "name": "python",
   "nbconvert_exporter": "python",
   "pygments_lexer": "ipython3",
   "version": "3.12.4"
  }
 },
 "nbformat": 4,
 "nbformat_minor": 5
}
